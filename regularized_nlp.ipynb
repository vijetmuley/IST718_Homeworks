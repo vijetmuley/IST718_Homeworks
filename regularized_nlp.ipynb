{
 "cells": [
  {
   "cell_type": "markdown",
   "metadata": {},
   "source": [
    "# IST 718: Big Data Analytics\n",
    "\n",
    "- Professor: Daniel Acuna <deacuna@syr.edu>\n",
    "\n",
    "## General instructions:\n",
    "\n",
    "- You are welcome to discuss the problems with your classmates but __you are not allowed to copy any part of your answers either from your classmates or from the internet__\n",
    "- You can put the homework files anywhere you want in your http://notebook.acuna.io workspace but _do not change_ the file names. The TAs and the professor use these names to grade your homework.\n",
    "- Remove or comment out code that contains `raise NotImplementedError`. This is mainly to make the `assert` statement fail if nothing is submitted.\n",
    "- The tests shown in some cells (i.e., `assert` and `np.testing.` statements) are used to grade your answers. **However, the professor and TAs will use __additional__ test for your answer. Think about cases where your code should run even if it passess all the tests you see.**\n",
    "- Before downloading and submitting your work through Blackboard, remember to save and press `Validate` (or go to \n",
    "`Kernel`$\\rightarrow$`Restart and Run All`). \n",
    "- Good luck!"
   ]
  },
  {
   "cell_type": "code",
   "execution_count": 40,
   "metadata": {},
   "outputs": [],
   "source": [
    "# Load the packages needed for this part\n",
    "# create spark and sparkcontext objects\n",
    "from pyspark.sql import SparkSession\n",
    "import numpy as np\n",
    "\n",
    "spark = SparkSession.builder.getOrCreate()\n",
    "sc = spark.sparkContext\n",
    "\n",
    "import pyspark\n",
    "from pyspark.ml import feature, regression, Pipeline, classification, pipeline, evaluation\n",
    "from pyspark.sql import functions as fn, Row\n",
    "from pyspark import sql\n",
    "\n",
    "import matplotlib.pyplot as plt\n",
    "import pandas as pd"
   ]
  },
  {
   "cell_type": "markdown",
   "metadata": {},
   "source": [
    "# Part 2"
   ]
  },
  {
   "cell_type": "markdown",
   "metadata": {},
   "source": [
    "In this section, you are going to develop a SMS spam detector based on logistic regression. This is the same idea behind sentiment analysis, but instead of predicting positive sentiment vs negative sentiment, you are going to predict whether a SMS text is spam or not.\n",
    "\n",
    "The dataset will be in `sms_spam_df`"
   ]
  },
  {
   "cell_type": "code",
   "execution_count": 41,
   "metadata": {},
   "outputs": [],
   "source": [
    "sms_spam_df = spark.read.csv('/datasets/sms_spam.csv', header=True, inferSchema=True)"
   ]
  },
  {
   "cell_type": "markdown",
   "metadata": {},
   "source": [
    "# Question 2.1\n",
    "\n",
    "Encode the `type` column to be 1 for `spam` and 0 for `ham` and store the result in `sms_spam2_df`"
   ]
  },
  {
   "cell_type": "code",
   "execution_count": 42,
   "metadata": {
    "deletable": false,
    "nbgrader": {
     "checksum": "ede01a8c8ef80d25d4fa8d9132b6f9c0",
     "grade": false,
     "grade_id": "cell-79e2472845514523",
     "locked": false,
     "schema_version": 1,
     "solution": true
    }
   },
   "outputs": [
    {
     "name": "stdout",
     "output_type": "stream",
     "text": [
      "+----+--------------------+\n",
      "|type|                text|\n",
      "+----+--------------------+\n",
      "| ham|Go until jurong p...|\n",
      "| ham|Ok lar... Joking ...|\n",
      "|spam|Free entry in 2 a...|\n",
      "| ham|U dun say so earl...|\n",
      "| ham|Nah I don't think...|\n",
      "+----+--------------------+\n",
      "only showing top 5 rows\n",
      "\n",
      "+----+--------------------+\n",
      "|type|                text|\n",
      "+----+--------------------+\n",
      "|   0|Go until jurong p...|\n",
      "|   0|Ok lar... Joking ...|\n",
      "|   1|Free entry in 2 a...|\n",
      "|   0|U dun say so earl...|\n",
      "|   0|Nah I don't think...|\n",
      "+----+--------------------+\n",
      "only showing top 5 rows\n",
      "\n"
     ]
    },
    {
     "data": {
      "text/plain": [
       "5574"
      ]
     },
     "execution_count": 42,
     "metadata": {},
     "output_type": "execute_result"
    }
   ],
   "source": [
    "# create sms_spam2_df below\n",
    "# YOUR CODE HERE\n",
    "\n",
    "#Making a new dataframe with text column and a corresponding dummy column for type, with spam=1 else 0:\n",
    "sms_spam2_df=sms_spam_df.select(fn.when(fn.col(\"type\")==\"spam\",1).otherwise(0).alias(\"type\"),fn.col(\"text\"))\n",
    "\n",
    "#Checking to see if results are correct:\n",
    "sms_spam_df.show(5)\n",
    "sms_spam2_df.show(5)\n",
    "\n",
    "#Looking at the number of rows:\n",
    "sms_spam2_df.count()\n",
    "\n",
    "#raise NotImplementedError()"
   ]
  },
  {
   "cell_type": "code",
   "execution_count": 43,
   "metadata": {},
   "outputs": [
    {
     "name": "stdout",
     "output_type": "stream",
     "text": [
      "+----+--------------------+\n",
      "|type|                text|\n",
      "+----+--------------------+\n",
      "|   0|Go until jurong p...|\n",
      "|   0|Ok lar... Joking ...|\n",
      "|   1|Free entry in 2 a...|\n",
      "|   0|U dun say so earl...|\n",
      "|   0|Nah I don't think...|\n",
      "|   1|FreeMsg Hey there...|\n",
      "|   0|Even my brother i...|\n",
      "|   0|As per your reque...|\n",
      "|   1|WINNER!! As a val...|\n",
      "|   1|Had your mobile 1...|\n",
      "|   0|I'm gonna be home...|\n",
      "|   1|SIX chances to wi...|\n",
      "|   1|URGENT! You have ...|\n",
      "|   0|I've been searchi...|\n",
      "|   0|I HAVE A DATE ON ...|\n",
      "|   1|XXXMobileMovieClu...|\n",
      "|   0|Oh k...i'm watchi...|\n",
      "|   0|Eh u remember how...|\n",
      "|   0|Fine if that's th...|\n",
      "|   1|England v Macedon...|\n",
      "+----+--------------------+\n",
      "only showing top 20 rows\n",
      "\n"
     ]
    }
   ],
   "source": [
    "sms_spam2_df.show()"
   ]
  },
  {
   "cell_type": "code",
   "execution_count": null,
   "metadata": {},
   "outputs": [],
   "source": [
    "sms_spam2_df = sms_spam_df.\\\n",
    "    select(\n",
    "fn.when(fn.col('type')=='spam',1).otherwise(0).alias('type'),\n",
    "fn.col('text')\n",
    ")"
   ]
  },
  {
   "cell_type": "code",
   "execution_count": null,
   "metadata": {},
   "outputs": [],
   "source": [
    "sms_spam2_df.show()"
   ]
  },
  {
   "cell_type": "code",
   "execution_count": null,
   "metadata": {},
   "outputs": [],
   "source": [
    "sms_spam2_df.count()"
   ]
  },
  {
   "cell_type": "code",
   "execution_count": 44,
   "metadata": {
    "deletable": false,
    "editable": false,
    "nbgrader": {
     "checksum": "3c39d9b0191d5b096f133b45d5f38f67",
     "grade": true,
     "grade_id": "cell-c6048eb3c38d3030",
     "locked": true,
     "points": 5,
     "schema_version": 1,
     "solution": false
    }
   },
   "outputs": [],
   "source": [
    "# (5 pts)\n",
    "np.testing.assert_array_equal(\n",
    "    sms_spam2_df.groupBy('type').count().orderBy('type').rdd.map(lambda x: x['count']).collect(),\n",
    "    [4827, 747]\n",
    ")"
   ]
  },
  {
   "cell_type": "markdown",
   "metadata": {},
   "source": [
    "# Question 2.2: tfidf feature engineering\n",
    "Create a pipeline that combines a `Tokenizer`, `CounterVectorizer`, and a `IDF` estimator to compute the tfidf vectors of each SMS. Fit this pipeline and assign the pipeline transformer to a variable `tfidf_pipeline`. The `Tokenizer` step should create a column `words`, the `CounterVectorizer` step should create a column `tf`, and the `IDF` step should create a column `tfidf`."
   ]
  },
  {
   "cell_type": "code",
   "execution_count": 65,
   "metadata": {
    "deletable": false,
    "nbgrader": {
     "checksum": "521084e2063144fa97a14bef1e965fca",
     "grade": false,
     "grade_id": "cell-ab24110e63d19470",
     "locked": false,
     "schema_version": 1,
     "solution": true
    }
   },
   "outputs": [
    {
     "name": "stdout",
     "output_type": "stream",
     "text": [
      "+----+--------------------+--------------------+--------------------+--------------------+\n",
      "|type|                text|               words|                  tf|               tfidf|\n",
      "+----+--------------------+--------------------+--------------------+--------------------+\n",
      "|   0|Go until jurong p...|[go, until, juron...|(13525,[8,42,51,6...|(13525,[8,42,51,6...|\n",
      "|   0|Ok lar... Joking ...|[ok, lar..., joki...|(13525,[5,74,404,...|(13525,[5,74,404,...|\n",
      "|   1|Free entry in 2 a...|[free, entry, in,...|(13525,[0,3,8,20,...|(13525,[0,3,8,20,...|\n",
      "|   0|U dun say so earl...|[u, dun, say, so,...|(13525,[5,22,60,1...|(13525,[5,22,60,1...|\n",
      "|   0|Nah I don't think...|[nah, i, don't, t...|(13525,[0,1,66,86...|(13525,[0,1,66,86...|\n",
      "+----+--------------------+--------------------+--------------------+--------------------+\n",
      "only showing top 5 rows\n",
      "\n"
     ]
    }
   ],
   "source": [
    "# create a Pipeline transformer and name it tfidf_pipeline\n",
    "# YOUR CODE HERE\n",
    "\n",
    "from pyspark.ml.feature import Tokenizer\n",
    "\n",
    "#Setting up the toeknizer:\n",
    "tokenizer=Tokenizer().setInputCol(\"text\").setOutputCol(\"words\")\n",
    "#df1=tokenizer.transform(sms_spam2_df)\n",
    "\n",
    "#Requesting word list from the URL:\n",
    "import requests\n",
    "stop_word_list=requests.get(\"http://ir.dcs.gla.ac.uk/resources/linguistic_utils/stop_words\").text.split()\n",
    "\n",
    "#Setting up a stop word remover:\n",
    "from pyspark.ml.feature import StopWordsRemover\n",
    "swr=StopWordsRemover().setStopWords(stop_word_list).setCaseSensitive(False).setInputCol(\"words\").setOutputCol(\"filtered_words\")\n",
    "\n",
    "#Setting up a count vectorizer:\n",
    "from pyspark.ml.feature import CountVectorizer\n",
    "\n",
    "vectorizer_estimator=CountVectorizer().setInputCol(\"words\").setOutputCol(\"tf\")\n",
    "#vectorizer_transformer=vectorizer_estimator.fit(df1)\n",
    "#vectorizer_transformer.transform(df1).show()\n",
    "\n",
    "#Setting up the IDF estimator:\n",
    "from pyspark.ml.feature import IDF\n",
    "idf=IDF().setInputCol(\"tf\").setOutputCol(\"tfidf\")\n",
    "\n",
    "#Making a pipeline with all the above estimators as stages:\n",
    "from pyspark.ml import Pipeline\n",
    "tfidf_pipeline=Pipeline(stages=[tokenizer,vectorizer_estimator,idf]).fit(sms_spam2_df)\n",
    "tfidf_pipeline.transform(sms_spam2_df).show(5)\n",
    "#big_df=tfidf_pipeline.transform(sms_spam2_df)\n",
    "\n",
    "#Made a stopword transformer, but it wasn't required as per the test case.\n",
    "#raise NotImplementedError()"
   ]
  },
  {
   "cell_type": "markdown",
   "metadata": {},
   "source": [
    "##### tfidf_pipeline.transform(sms_spam2_df).show()"
   ]
  },
  {
   "cell_type": "code",
   "execution_count": 46,
   "metadata": {
    "deletable": false,
    "editable": false,
    "nbgrader": {
     "checksum": "34ef778045b84441f525a78f9db3eb70",
     "grade": true,
     "grade_id": "cell-cd280a1ccf0f1705",
     "locked": true,
     "points": 5,
     "schema_version": 1,
     "solution": false
    }
   },
   "outputs": [],
   "source": [
    "# (5 pts)\n",
    "np.testing.assert_array_equal([type(s) for s in tfidf_pipeline.stages],\n",
    "                              [feature.Tokenizer, feature.CountVectorizerModel, feature.IDFModel])"
   ]
  },
  {
   "cell_type": "markdown",
   "metadata": {},
   "source": [
    "# Question 2.3: uppercase feature\n",
    "\n",
    "Typical spam messages contain words that are upper case. Create a dataframe `sms_spam3_df` where you add a new column `has_uppercase` which contains an integer `1` if the first sequence of uppercase letters is longer or equal to 3 and an integer `0` otherwise. You can extract sequence of 3 or more uppercase letters by using the regular expression `[A-Z]{3,}`. You will use the function `fn.regexp_extract` to find those sequences and extract the first one (e.g., with index 0) and then use `fn.length` to compute the length of such sequence."
   ]
  },
  {
   "cell_type": "code",
   "execution_count": 47,
   "metadata": {
    "deletable": false,
    "nbgrader": {
     "checksum": "4a654d9e0b5d08d00aaaaa4cb3e04e30",
     "grade": false,
     "grade_id": "cell-02520df239057529",
     "locked": false,
     "schema_version": 1,
     "solution": true
    }
   },
   "outputs": [
    {
     "name": "stdout",
     "output_type": "stream",
     "text": [
      "+----+--------------------+-------------+\n",
      "|type|                text|has_uppercase|\n",
      "+----+--------------------+-------------+\n",
      "|   0|Go until jurong p...|            0|\n",
      "|   0|Ok lar... Joking ...|            0|\n",
      "|   1|Free entry in 2 a...|            0|\n",
      "|   0|U dun say so earl...|            0|\n",
      "|   0|Nah I don't think...|            0|\n",
      "+----+--------------------+-------------+\n",
      "only showing top 5 rows\n",
      "\n"
     ]
    }
   ],
   "source": [
    "# create sms_spam3_df below\n",
    "# YOUR CODE HERE\n",
    "\n",
    "#Checking for substrings with length of 3 or more than 3, and if found, dummy variable is set to 1 for having 3 or more uppercase letters in a succession:\n",
    "sms_spam3_df=sms_spam2_df.withColumn(\"has_uppercase\",fn.when(fn.length(fn.regexp_extract(fn.col(\"text\"),\"[A-Z]{3,}\",0))>2,1).otherwise(0))\n",
    "\n",
    "#Checking if the regex was applied correctly or not:\n",
    "sms_spam3_df.show(5)\n",
    "\n",
    "#raise NotImplementedError()"
   ]
  },
  {
   "cell_type": "markdown",
   "metadata": {},
   "source": [
    "The first three messages with `has_uppercase == 1` are as follows:\n",
    "\n",
    "```python\n",
    "sms_spam3_df.where('has_uppercase == 1').take(3)\n",
    "```\n",
    "\n",
    "```console\n",
    "[Row(type=1, text='WINNER!! As a valued network customer you have been selected to receivea £900 prize reward! To claim call 09061701461. Claim code KL341. Valid 12 hours only.', has_uppercase=1),\n",
    " Row(type=1, text='Had your mobile 11 months or more? U R entitled to Update to the latest colour mobiles with camera for Free! Call The Mobile Update Co FREE on 08002986030', has_uppercase=1),\n",
    " Row(type=1, text='SIX chances to win CASH! From 100 to 20,000 pounds txt> CSH11 and send to 87575. Cost 150p/day, 6days, 16+ TsandCs apply Reply HL 4 info', has_uppercase=1)]\n",
    "```"
   ]
  },
  {
   "cell_type": "code",
   "execution_count": 48,
   "metadata": {},
   "outputs": [
    {
     "data": {
      "text/plain": [
       "[Row(type=1, text='WINNER!! As a valued network customer you have been selected to receivea £900 prize reward! To claim call 09061701461. Claim code KL341. Valid 12 hours only.', has_uppercase=1),\n",
       " Row(type=1, text='Had your mobile 11 months or more? U R entitled to Update to the latest colour mobiles with camera for Free! Call The Mobile Update Co FREE on 08002986030', has_uppercase=1),\n",
       " Row(type=1, text='SIX chances to win CASH! From 100 to 20,000 pounds txt> CSH11 and send to 87575. Cost 150p/day, 6days, 16+ TsandCs apply Reply HL 4 info', has_uppercase=1)]"
      ]
     },
     "execution_count": 48,
     "metadata": {},
     "output_type": "execute_result"
    }
   ],
   "source": [
    "# try it here\n",
    "sms_spam3_df.where('has_uppercase == 1').take(3)"
   ]
  },
  {
   "cell_type": "code",
   "execution_count": 49,
   "metadata": {
    "deletable": false,
    "editable": false,
    "nbgrader": {
     "checksum": "e380d6f60200785939c9acae7e614bef",
     "grade": true,
     "grade_id": "cell-905724115443b1ad",
     "locked": true,
     "points": 5,
     "schema_version": 1,
     "solution": false
    }
   },
   "outputs": [],
   "source": [
    "# (5 pts)\n",
    "np.testing.assert_equal(set(sms_spam3_df.columns), {'has_uppercase', 'text', 'type'})\n",
    "np.testing.assert_equal(type(sms_spam3_df.schema['has_uppercase'].dataType), sql.types.IntegerType)\n",
    "np.testing.assert_equal(sms_spam3_df.rdd.map(lambda x : x['has_uppercase']).sum(), 891)"
   ]
  },
  {
   "cell_type": "markdown",
   "metadata": {},
   "source": [
    "# Question 2.4: Compare models\n",
    "\n",
    "Using the following splits:"
   ]
  },
  {
   "cell_type": "code",
   "execution_count": 50,
   "metadata": {
    "deletable": false,
    "editable": false,
    "nbgrader": {
     "checksum": "8293adada027540531a2727eff204198",
     "grade": false,
     "grade_id": "cell-2f05175cd6ae7f5c",
     "locked": true,
     "schema_version": 1,
     "solution": false
    }
   },
   "outputs": [],
   "source": [
    "training_df, validation_df, testing_df = sms_spam2_df.randomSplit([0.6, 0.3, 0.1], seed=0)"
   ]
  },
  {
   "cell_type": "code",
   "execution_count": 51,
   "metadata": {},
   "outputs": [
    {
     "data": {
      "text/plain": [
       "[3349, 1674, 551]"
      ]
     },
     "execution_count": 51,
     "metadata": {},
     "output_type": "execute_result"
    }
   ],
   "source": [
    "[training_df.count(), validation_df.count(), testing_df.count()]"
   ]
  },
  {
   "cell_type": "markdown",
   "metadata": {},
   "source": [
    "**(5 pts)** Create pipelines where the first stage is the `tfidf_pipeline` created above and the second stage is a `LogisticRegression` model with different regularization parameters ($\\lambda$) and elastic net mixture ($\\alpha$). Fit those pipelines to the appropriate data split.\n",
    "\n",
    "1. Logistic regression with $\\lambda=0$ and $\\alpha=0$ (assign the fitted pipeline to `lr_pipeline1`)\n",
    "2. Logistic regression with $\\lambda=0.02$ and $\\alpha=0.2$ (assign the fitted pipeline to `lr_pipeline2`)\n",
    "3. Logistic regression with $\\lambda=0.1$ and $\\alpha=0.4$ (assign the fitted pipeline to `lr_pipeline3`)"
   ]
  },
  {
   "cell_type": "code",
   "execution_count": 52,
   "metadata": {
    "deletable": false,
    "nbgrader": {
     "checksum": "02b7fefd0dd482900ba644d56b02400a",
     "grade": false,
     "grade_id": "cell-8db1a50673eea1a7",
     "locked": false,
     "schema_version": 1,
     "solution": true
    }
   },
   "outputs": [
    {
     "name": "stdout",
     "output_type": "stream",
     "text": [
      "+-------------------------------+\n",
      "|Validation accuracy for model 1|\n",
      "+-------------------------------+\n",
      "|             0.9659498207885304|\n",
      "+-------------------------------+\n",
      "\n",
      "+-------------------------------+\n",
      "|Validation accuracy for model 2|\n",
      "+-------------------------------+\n",
      "|             0.9683393070489845|\n",
      "+-------------------------------+\n",
      "\n",
      "+-------------------------------+\n",
      "|Validation accuracy for model 3|\n",
      "+-------------------------------+\n",
      "|             0.9080047789725209|\n",
      "+-------------------------------+\n",
      "\n"
     ]
    }
   ],
   "source": [
    "# create lr_pipeline1, lr_pipeline2, and lr_pipeline3\n",
    "# YOUR CODE HERE\n",
    "\n",
    "#First made 3 estimators for 3 different cases of logistic regression and then individually fit them on training data and used the resultant transformer of the validation data:\n",
    "from pyspark.ml.classification import LogisticRegression\n",
    "lr1=LogisticRegression().setLabelCol(\"type\").setFeaturesCol(\"tfidf\").setRegParam(0).setMaxIter(100).setElasticNetParam(0)\n",
    "lr2=LogisticRegression().setLabelCol(\"type\").setFeaturesCol(\"tfidf\").setRegParam(0.02).setMaxIter(100).setElasticNetParam(0.2)\n",
    "lr3=LogisticRegression().setLabelCol(\"type\").setFeaturesCol(\"tfidf\").setRegParam(0.1).setMaxIter(100).setElasticNetParam(0.4)\n",
    "\n",
    "lr_pipeline1=Pipeline(stages=[tfidf_pipeline,lr1]).fit(training_df)\n",
    "lr_pipeline1.transform(validation_df)\n",
    "\n",
    "lr_pipeline2=Pipeline(stages=[tfidf_pipeline,lr2]).fit(training_df)\n",
    "lr_pipeline2.transform(validation_df)\n",
    "\n",
    "lr_pipeline3=Pipeline(stages=[tfidf_pipeline,lr3]).fit(training_df)\n",
    "lr_pipeline3.transform(validation_df)\n",
    "\n",
    "#Taking a look at the validation accuracy for every model:\n",
    "lr_pipeline1.transform(validation_df).select(fn.avg(fn.expr('float(prediction = type)')).alias(\"Validation accuracy for model 1\")).show()\n",
    "lr_pipeline2.transform(validation_df).select(fn.avg(fn.expr('float(prediction = type)')).alias(\"Validation accuracy for model 2\")).show()\n",
    "lr_pipeline3.transform(validation_df).select(fn.avg(fn.expr('float(prediction = type)')).alias(\"Validation accuracy for model 3\")).show()\n",
    "#raise NotImplementedError()"
   ]
  },
  {
   "cell_type": "code",
   "execution_count": 53,
   "metadata": {
    "deletable": false,
    "editable": false,
    "nbgrader": {
     "checksum": "bd388632281a19de36557ec7a00af21d",
     "grade": true,
     "grade_id": "cell-bc59c22c523a9016",
     "locked": true,
     "points": 10,
     "schema_version": 1,
     "solution": false
    }
   },
   "outputs": [],
   "source": [
    "# (10 pts)\n",
    "np.testing.assert_equal(type(lr_pipeline1), pipeline.PipelineModel)\n",
    "np.testing.assert_equal(type(lr_pipeline2), pipeline.PipelineModel)\n",
    "np.testing.assert_equal(type(lr_pipeline3), pipeline.PipelineModel)\n",
    "np.testing.assert_array_equal([type(s) for s in lr_pipeline1.stages],\n",
    "                              [pipeline.PipelineModel, classification.LogisticRegressionModel])\n",
    "np.testing.assert_array_equal([type(s) for s in lr_pipeline2.stages],\n",
    "                              [pipeline.PipelineModel, classification.LogisticRegressionModel])\n",
    "np.testing.assert_array_equal([type(s) for s in lr_pipeline3.stages],\n",
    "                              [pipeline.PipelineModel, classification.LogisticRegressionModel])"
   ]
  },
  {
   "cell_type": "markdown",
   "metadata": {},
   "source": [
    "**(5 pts)** Use the evaluator object defined below to compute the area under the curve of your predictors. For example, to compute the area under the curve of pipeline 1 for a dataframe `df`, you would run\n",
    "\n",
    "```python\n",
    "evaluator.evaluate(lr_pipeline1.transform(df))\n",
    "```\n",
    "\n",
    "Assign the AUC of the three models to the variables `AUC1`, `AUC2`, and `AUC3`, and and assign the pipeline with the best model to a variable `best_model`"
   ]
  },
  {
   "cell_type": "code",
   "execution_count": 54,
   "metadata": {
    "deletable": false,
    "editable": false,
    "nbgrader": {
     "checksum": "74638d21bd238bcc28672143908e8b8c",
     "grade": false,
     "grade_id": "cell-44d4a941d4aef83e",
     "locked": true,
     "schema_version": 1,
     "solution": false
    }
   },
   "outputs": [],
   "source": [
    "evaluator = evaluation.BinaryClassificationEvaluator(labelCol='type')"
   ]
  },
  {
   "cell_type": "markdown",
   "metadata": {},
   "source": [
    "For example, the AUC on training of the first model is perfect:\n",
    "\n",
    "```\n",
    "evaluator.evaluate(lr_pipeline1.transform(training_df))\n",
    "```\n",
    "\n",
    "```console\n",
    "1.0\n",
    "```"
   ]
  },
  {
   "cell_type": "code",
   "execution_count": 55,
   "metadata": {
    "deletable": false,
    "nbgrader": {
     "checksum": "6d2b1fd1d3f5e9dbcd1986f7c6486293",
     "grade": false,
     "grade_id": "cell-a9d883059572796b",
     "locked": false,
     "schema_version": 1,
     "solution": true
    }
   },
   "outputs": [
    {
     "name": "stdout",
     "output_type": "stream",
     "text": [
      "AUC for Model 1:  0.9557218489415972\n",
      "AUC for Model 2:  0.9871555611031791\n",
      "AUC for Model 3:  0.9686667539402503\n"
     ]
    }
   ],
   "source": [
    "# print the AUC for the three models as follows\n",
    "# print(\"Model 1 AUC: \", evaluator.evaluate(....))\n",
    "# etc\n",
    "# finally, based on these, assign the best validated \n",
    "# model to a variable best_model\n",
    "# YOUR CODE HERE\n",
    "\n",
    "#AUC for every model created:\n",
    "AUC1=evaluator.evaluate(lr_pipeline1.transform(validation_df))\n",
    "AUC2=evaluator.evaluate(lr_pipeline2.transform(validation_df))\n",
    "AUC3=evaluator.evaluate(lr_pipeline3.transform(validation_df))\n",
    "\n",
    "print(\"AUC for Model 1: \",AUC1)\n",
    "print(\"AUC for Model 2: \",AUC2)\n",
    "print(\"AUC for Model 3: \",AUC3)\n",
    "\n",
    "#The model from lr_pipeline2 has the highest AUC and thus assigend as best model:\n",
    "best_model=lr_pipeline2\n",
    "\n",
    "#raise NotImplementedError()"
   ]
  },
  {
   "cell_type": "code",
   "execution_count": 56,
   "metadata": {
    "deletable": false,
    "editable": false,
    "nbgrader": {
     "checksum": "1c76a13060b46900aa055920ae5f6a2f",
     "grade": true,
     "grade_id": "cell-29d52d2cec5c8a1e",
     "locked": true,
     "points": 5,
     "schema_version": 1,
     "solution": false
    }
   },
   "outputs": [],
   "source": [
    "# (5 pts)\n",
    "np.testing.assert_array_equal([type(AUC1), type(AUC2), type(AUC3)],\n",
    "                             [float, float, float])\n",
    "# AUC less than 1\n",
    "np.testing.assert_array_less([AUC1, AUC2, AUC3], [1, 1, 1])\n",
    "# AUC more than 0.5\n",
    "np.testing.assert_array_less([.5, .5, .5],\n",
    "                            [AUC1, AUC2, AUC3])"
   ]
  },
  {
   "cell_type": "markdown",
   "metadata": {},
   "source": [
    "# Question 2.5: Choose best model\n",
    "\n",
    "Using the right split and the best model selected before, compute the generalization performance and assign it to a variable `AUC_best`"
   ]
  },
  {
   "cell_type": "code",
   "execution_count": 57,
   "metadata": {
    "deletable": false,
    "nbgrader": {
     "checksum": "7780410d49dd0727bea11bcfa2ec75de",
     "grade": false,
     "grade_id": "cell-2d30a81f9c08fc5d",
     "locked": false,
     "schema_version": 1,
     "solution": true
    }
   },
   "outputs": [
    {
     "name": "stdout",
     "output_type": "stream",
     "text": [
      "0.976126746201693\n"
     ]
    }
   ],
   "source": [
    "# assign to AUC_best the AUC of the best model selected before\n",
    "# YOUR CODE HERE\n",
    "\n",
    "#The AUC for the best model is:\n",
    "AUC_best=evaluator.evaluate(best_model.transform(testing_df))\n",
    "print(AUC_best)\n",
    "\n",
    "#raise NotImplementedError()"
   ]
  },
  {
   "cell_type": "code",
   "execution_count": 58,
   "metadata": {
    "deletable": false,
    "editable": false,
    "nbgrader": {
     "checksum": "77cef30af04406aeee070bae31e75129",
     "grade": true,
     "grade_id": "cell-dc8fd7d7ce658642",
     "locked": true,
     "points": 5,
     "schema_version": 1,
     "solution": false
    }
   },
   "outputs": [],
   "source": [
    "# (5 pts)\n",
    "np.testing.assert_approx_equal(AUC_best, \n",
    "                               0.976126746201693, significant=2)"
   ]
  },
  {
   "cell_type": "markdown",
   "metadata": {},
   "source": [
    "# Question 2.6: Inference\n",
    "\n",
    "Use the pipeline 2 fitted above (`lr_pipeline2`) to create Pandas dataframes that contain the most negative words and the most positive words. In particular, create a dataframe `positive_words` with the columns `word` and `weight` with the top 20 positive words, sorted by descending coefficient. Similarly create a `negative_words` Pandas dataframe with the top 20 negative words where the coefficient are sorted in ascending order. **Hint: follow the `sentiment_analysis.ipynb` notebook in the repo**"
   ]
  },
  {
   "cell_type": "code",
   "execution_count": 59,
   "metadata": {
    "deletable": false,
    "nbgrader": {
     "checksum": "b517fb83f670ea60b1fdb1580356a410",
     "grade": false,
     "grade_id": "cell-9fa9de453a36f8d2",
     "locked": false,
     "schema_version": 1,
     "solution": true
    }
   },
   "outputs": [],
   "source": [
    "# create positive_words and negative_words pandas dataframe below\n",
    "# YOUR CODE HERE\n",
    "\n",
    "#Since I have a pipeline inside a pipeline, I am accessing inner pipeline (lr_pipeline2) for the vocabulary (from IDF estimator):\n",
    "inner_pipeline=lr_pipeline2.stages[0]\n",
    "#print(type(inner_pipeline))\n",
    "\n",
    "#Taking the weights from the lr_pipeline2's last stage, which is the actual logistic regression (thus taking the coefficients):\n",
    "pipeline_word_weights=lr_pipeline2.stages[-1].coefficients.toArray()\n",
    "\n",
    "#Positive words list (descending order to have highest weights up):\n",
    "positive_words=pd.DataFrame({\"word\":inner_pipeline.stages[1].vocabulary,\"weight\":pipeline_word_weights}).sort_values(\"weight\",ascending=False).head(20)\n",
    "\n",
    "#Negative words list:\n",
    "negative_words=pd.DataFrame({\"word\":inner_pipeline.stages[1].vocabulary,\"weight\":pipeline_word_weights}).sort_values(\"weight\").head(20)\n",
    "\n",
    "#raise NotImplementedError()"
   ]
  },
  {
   "cell_type": "code",
   "execution_count": 60,
   "metadata": {},
   "outputs": [
    {
     "data": {
      "text/html": [
       "<div>\n",
       "<style scoped>\n",
       "    .dataframe tbody tr th:only-of-type {\n",
       "        vertical-align: middle;\n",
       "    }\n",
       "\n",
       "    .dataframe tbody tr th {\n",
       "        vertical-align: top;\n",
       "    }\n",
       "\n",
       "    .dataframe thead th {\n",
       "        text-align: right;\n",
       "    }\n",
       "</style>\n",
       "<table border=\"1\" class=\"dataframe\">\n",
       "  <thead>\n",
       "    <tr style=\"text-align: right;\">\n",
       "      <th></th>\n",
       "      <th>word</th>\n",
       "      <th>weight</th>\n",
       "    </tr>\n",
       "  </thead>\n",
       "  <tbody>\n",
       "    <tr>\n",
       "      <th>3555</th>\n",
       "      <td>widelive.com/index.</td>\n",
       "      <td>0.590870</td>\n",
       "    </tr>\n",
       "    <tr>\n",
       "      <th>12237</th>\n",
       "      <td>08714712388</td>\n",
       "      <td>0.533567</td>\n",
       "    </tr>\n",
       "    <tr>\n",
       "      <th>15</th>\n",
       "      <td>call</td>\n",
       "      <td>0.517100</td>\n",
       "    </tr>\n",
       "    <tr>\n",
       "      <th>81</th>\n",
       "      <td>txt</td>\n",
       "      <td>0.513278</td>\n",
       "    </tr>\n",
       "    <tr>\n",
       "      <th>9064</th>\n",
       "      <td>gbp/sms</td>\n",
       "      <td>0.468274</td>\n",
       "    </tr>\n",
       "  </tbody>\n",
       "</table>\n",
       "</div>"
      ],
      "text/plain": [
       "                      word    weight\n",
       "3555   widelive.com/index.  0.590870\n",
       "12237          08714712388  0.533567\n",
       "15                    call  0.517100\n",
       "81                     txt  0.513278\n",
       "9064               gbp/sms  0.468274"
      ]
     },
     "execution_count": 60,
     "metadata": {},
     "output_type": "execute_result"
    }
   ],
   "source": [
    "# examine positive vocabulary\n",
    "positive_words.head()"
   ]
  },
  {
   "cell_type": "code",
   "execution_count": 61,
   "metadata": {},
   "outputs": [
    {
     "data": {
      "text/html": [
       "<div>\n",
       "<style scoped>\n",
       "    .dataframe tbody tr th:only-of-type {\n",
       "        vertical-align: middle;\n",
       "    }\n",
       "\n",
       "    .dataframe tbody tr th {\n",
       "        vertical-align: top;\n",
       "    }\n",
       "\n",
       "    .dataframe thead th {\n",
       "        text-align: right;\n",
       "    }\n",
       "</style>\n",
       "<table border=\"1\" class=\"dataframe\">\n",
       "  <thead>\n",
       "    <tr style=\"text-align: right;\">\n",
       "      <th></th>\n",
       "      <th>word</th>\n",
       "      <th>weight</th>\n",
       "    </tr>\n",
       "  </thead>\n",
       "  <tbody>\n",
       "    <tr>\n",
       "      <th>1</th>\n",
       "      <td>i</td>\n",
       "      <td>-0.162493</td>\n",
       "    </tr>\n",
       "    <tr>\n",
       "      <th>2444</th>\n",
       "      <td>fighting</td>\n",
       "      <td>-0.060939</td>\n",
       "    </tr>\n",
       "    <tr>\n",
       "      <th>3221</th>\n",
       "      <td>dificult</td>\n",
       "      <td>-0.059061</td>\n",
       "    </tr>\n",
       "    <tr>\n",
       "      <th>3371</th>\n",
       "      <td>fightng</td>\n",
       "      <td>-0.059061</td>\n",
       "    </tr>\n",
       "    <tr>\n",
       "      <th>3332</th>\n",
       "      <td>lose.</td>\n",
       "      <td>-0.059061</td>\n",
       "    </tr>\n",
       "  </tbody>\n",
       "</table>\n",
       "</div>"
      ],
      "text/plain": [
       "          word    weight\n",
       "1            i -0.162493\n",
       "2444  fighting -0.060939\n",
       "3221  dificult -0.059061\n",
       "3371   fightng -0.059061\n",
       "3332     lose. -0.059061"
      ]
     },
     "execution_count": 61,
     "metadata": {},
     "output_type": "execute_result"
    }
   ],
   "source": [
    "# examine solutions\n",
    "negative_words.head()"
   ]
  },
  {
   "cell_type": "markdown",
   "metadata": {},
   "source": [
    "The `positive_words` and `negative_words` dataframe should look like this:\n",
    "\n",
    "```python\n",
    "positive_words.head()\n",
    "```\n",
    "\n",
    "<table border=\"1\" class=\"dataframe\">\n",
    "  <thead>\n",
    "    <tr style=\"text-align: right;\">\n",
    "      <th></th>\n",
    "      <th>word</th>\n",
    "      <th>weight</th>\n",
    "    </tr>\n",
    "  </thead>\n",
    "  <tbody>\n",
    "    <tr>\n",
    "      <th>3555</th>\n",
    "      <td>widelive.com/index.</td>\n",
    "      <td>0.590870</td>\n",
    "    </tr>\n",
    "    <tr>\n",
    "      <th>12237</th>\n",
    "      <td>08714712388</td>\n",
    "      <td>0.533567</td>\n",
    "    </tr>\n",
    "    <tr>\n",
    "      <th>15</th>\n",
    "      <td>call</td>\n",
    "      <td>0.517100</td>\n",
    "    </tr>\n",
    "    <tr>\n",
    "      <th>81</th>\n",
    "      <td>txt</td>\n",
    "      <td>0.513278</td>\n",
    "    </tr>\n",
    "    <tr>\n",
    "      <th>9064</th>\n",
    "      <td>gbp/sms</td>\n",
    "      <td>0.468274</td>\n",
    "    </tr>\n",
    "  </tbody>\n",
    "</table>\n",
    "\n",
    "and \n",
    "\n",
    "```python\n",
    "negative_words.head()\n",
    "```\n",
    "\n",
    "<table border=\"1\" class=\"dataframe\">\n",
    "  <thead>\n",
    "    <tr style=\"text-align: right;\">\n",
    "      <th></th>\n",
    "      <th>word</th>\n",
    "      <th>weight</th>\n",
    "    </tr>\n",
    "  </thead>\n",
    "  <tbody>\n",
    "    <tr>\n",
    "      <th>1</th>\n",
    "      <td>i</td>\n",
    "      <td>-0.162493</td>\n",
    "    </tr>\n",
    "    <tr>\n",
    "      <th>2444</th>\n",
    "      <td>fighting</td>\n",
    "      <td>-0.060939</td>\n",
    "    </tr>\n",
    "    <tr>\n",
    "      <th>3221</th>\n",
    "      <td>dificult</td>\n",
    "      <td>-0.059061</td>\n",
    "    </tr>\n",
    "    <tr>\n",
    "      <th>3371</th>\n",
    "      <td>fightng</td>\n",
    "      <td>-0.059061</td>\n",
    "    </tr>\n",
    "    <tr>\n",
    "      <th>3332</th>\n",
    "      <td>lose.</td>\n",
    "      <td>-0.059061</td>\n",
    "    </tr>\n",
    "  </tbody>\n",
    "</table>"
   ]
  },
  {
   "cell_type": "code",
   "execution_count": 62,
   "metadata": {
    "deletable": false,
    "editable": false,
    "nbgrader": {
     "checksum": "9d1c1cfaa5326d7403d0c48891dea0b0",
     "grade": true,
     "grade_id": "cell-5926b249c3d8d910",
     "locked": true,
     "points": 5,
     "schema_version": 1,
     "solution": false
    }
   },
   "outputs": [],
   "source": [
    "# (5 pts)\n",
    "np.testing.assert_equal(set(positive_words.columns), {'weight', 'word'})\n",
    "np.testing.assert_equal(set(negative_words.columns), {'weight', 'word'})\n",
    "np.testing.assert_approx_equal(positive_words.weight.sum(), 8.3701485692317927, significant=2)\n",
    "np.testing.assert_approx_equal(negative_words.weight.sum(), -0.6661952507442954, significant=2)\n",
    "np.testing.assert_array_less(positive_words.weight.iloc[-1], positive_words.weight.iloc[0])\n",
    "np.testing.assert_array_less(negative_words.weight.iloc[0], negative_words.weight.iloc[-1])"
   ]
  },
  {
   "cell_type": "markdown",
   "metadata": {},
   "source": [
    "# Question 2.7\n",
    "Use the dataframe `sms_spam3_df` to create a model where the first feature is `has_uppercase` and the next set of features are the tfidf of the text. Perform feature engineering in all features using a max absolute scaler ([`MaxAbsScaler`](https://spark.apache.org/docs/2.0.2/ml-features.html#maxabsscaler)). Do a logistic regression on the resulting scaled features with regularization parameter $\\lambda = 0.2$ and elastic net mixture $\\alpha=0.1$ for the entire data (all of `sms_spam3_df`). Since you have scaled all features to be within the same range, you can compare them. \n",
    "\n",
    "**(5 pts)** with code and comments, answer below\n",
    "\n",
    "1. is `has_uppercase` a feature that is positively or negative related to an SMS being spam?\n",
    "2. what is the ratio of the coefficient of `has_uppercase` to the biggest positive tfidf coefficient?"
   ]
  },
  {
   "cell_type": "code",
   "execution_count": 81,
   "metadata": {
    "deletable": false,
    "nbgrader": {
     "checksum": "b811be2a38e793ee1cfdbc0c0624addb",
     "grade": true,
     "grade_id": "cell-63ad341d276b5971",
     "locked": false,
     "points": 5,
     "schema_version": 1,
     "solution": true
    }
   },
   "outputs": [
    {
     "name": "stdout",
     "output_type": "stream",
     "text": [
      "+----+--------------------+-------------+--------------------+--------------------+--------------------+--------------------+--------------------+\n",
      "|type|                text|has_uppercase|               words|                  tf|               tfidf|        scaled_tfidf|            features|\n",
      "+----+--------------------+-------------+--------------------+--------------------+--------------------+--------------------+--------------------+\n",
      "|   0|Go until jurong p...|            0|[go, until, juron...|(13525,[8,42,51,6...|(13525,[8,42,51,6...|(13525,[8,42,51,6...|(13526,[9,43,52,6...|\n",
      "|   0|Ok lar... Joking ...|            0|[ok, lar..., joki...|(13525,[5,74,404,...|(13525,[5,74,404,...|(13525,[5,74,404,...|(13526,[6,75,405,...|\n",
      "|   1|Free entry in 2 a...|            0|[free, entry, in,...|(13525,[0,3,8,20,...|(13525,[0,3,8,20,...|(13525,[0,3,8,20,...|(13526,[1,4,9,21,...|\n",
      "|   0|U dun say so earl...|            0|[u, dun, say, so,...|(13525,[5,22,60,1...|(13525,[5,22,60,1...|(13525,[5,22,60,1...|(13526,[6,23,61,1...|\n",
      "|   0|Nah I don't think...|            0|[nah, i, don't, t...|(13525,[0,1,66,86...|(13525,[0,1,66,86...|(13525,[0,1,66,86...|(13526,[1,2,67,87...|\n",
      "+----+--------------------+-------------+--------------------+--------------------+--------------------+--------------------+--------------------+\n",
      "only showing top 5 rows\n",
      "\n"
     ]
    }
   ],
   "source": [
    "# your code and comments below\n",
    "# YOUR CODE HERE\n",
    "\n",
    "from pyspark.ml.feature import MaxAbsScaler\n",
    "\n",
    "#Pasing sms_spam3_df (one with has_uppercase) through the tfidf_pipeline to get the tf-idf measure: \n",
    "tfidf_df=tfidf_pipeline.transform(sms_spam3_df)\n",
    "#Creating a scalar to be applied:\n",
    "scaler=MaxAbsScaler(inputCol=\"tfidf\",outputCol=\"scaled_tfidf\")\n",
    "#Fitting the scalar on the data from previous step:\n",
    "scaler_transformer=scaler.fit(tfidf_df)\n",
    "#Transformer applied to the same data to do scaling:\n",
    "scaled_df=scaler_transformer.transform(tfidf_df)\n",
    "\n",
    "#Just converting to pandas to have a look if scaling is done correctly:\n",
    "sms_spam3_df_scaled=scaled_df.toPandas()\n",
    "sms_spam3_df_scaled.head()\n",
    "\n",
    "#Collapsing has_uppercase and newly scaled tfidf values to one features column:\n",
    "vec_as=feature.VectorAssembler(inputCols=[\"has_uppercase\",\"scaled_tfidf\"],outputCol=\"features\")\n",
    "for_log_reg_df=vec_as.transform(scaled_df)\n",
    "for_log_reg_df.show(5)\n",
    "\n",
    "#raise NotImplementedError()"
   ]
  },
  {
   "cell_type": "code",
   "execution_count": 82,
   "metadata": {},
   "outputs": [],
   "source": [
    "#Making a new pipeling for the vectorized data with lambda=0.2 and alpha=0.1, fitting the pipeline on all of the data and creating a model:\n",
    "lr_pipeline=Pipeline(stages=[LogisticRegression().setLabelCol(\"type\").setFeaturesCol(\"features\").setRegParam(0.2).setMaxIter(100).setElasticNetParam(0.1)])\n",
    "lr_model=lr_pipeline.fit(for_log_reg_df)"
   ]
  },
  {
   "cell_type": "code",
   "execution_count": 88,
   "metadata": {},
   "outputs": [
    {
     "data": {
      "text/html": [
       "<div>\n",
       "<style scoped>\n",
       "    .dataframe tbody tr th:only-of-type {\n",
       "        vertical-align: middle;\n",
       "    }\n",
       "\n",
       "    .dataframe tbody tr th {\n",
       "        vertical-align: top;\n",
       "    }\n",
       "\n",
       "    .dataframe thead th {\n",
       "        text-align: right;\n",
       "    }\n",
       "</style>\n",
       "<table border=\"1\" class=\"dataframe\">\n",
       "  <thead>\n",
       "    <tr style=\"text-align: right;\">\n",
       "      <th></th>\n",
       "      <th>word</th>\n",
       "      <th>coefficient</th>\n",
       "    </tr>\n",
       "  </thead>\n",
       "  <tbody>\n",
       "    <tr>\n",
       "      <th>0</th>\n",
       "      <td>has_uppercase</td>\n",
       "      <td>0.928918</td>\n",
       "    </tr>\n",
       "    <tr>\n",
       "      <th>1</th>\n",
       "      <td>to</td>\n",
       "      <td>0.917446</td>\n",
       "    </tr>\n",
       "    <tr>\n",
       "      <th>2</th>\n",
       "      <td>i</td>\n",
       "      <td>-0.737638</td>\n",
       "    </tr>\n",
       "    <tr>\n",
       "      <th>3</th>\n",
       "      <td>you</td>\n",
       "      <td>0.000000</td>\n",
       "    </tr>\n",
       "    <tr>\n",
       "      <th>4</th>\n",
       "      <td>a</td>\n",
       "      <td>0.153977</td>\n",
       "    </tr>\n",
       "  </tbody>\n",
       "</table>\n",
       "</div>"
      ],
      "text/plain": [
       "            word  coefficient\n",
       "0  has_uppercase     0.928918\n",
       "1             to     0.917446\n",
       "2              i    -0.737638\n",
       "3            you     0.000000\n",
       "4              a     0.153977"
      ]
     },
     "execution_count": 88,
     "metadata": {},
     "output_type": "execute_result"
    }
   ],
   "source": [
    "#Doing the same thing as I did for positive and negative words data frame:\n",
    "#Used the vocabulary from lr_pipeline2:\n",
    "inner_pipeline=lr_pipeline2.stages[0]\n",
    "word_list=inner_pipeline.stages[1].vocabulary\n",
    "#Added 'has_uppercase' at the start, for the first coefficient will correspond to it:\n",
    "word_list.insert(0,\"has_uppercase\")\n",
    "#Taking the coefficients:\n",
    "coeff_list=lr_model.stages[0].coefficients.toArray()\n",
    "#Making a dataframe out of it:\n",
    "coeff_df=pd.DataFrame({\"word\":word_list,\"coefficient\":coeff_list})\n",
    "coeff_df.head(5)"
   ]
  },
  {
   "cell_type": "code",
   "execution_count": 91,
   "metadata": {},
   "outputs": [
    {
     "name": "stdout",
     "output_type": "stream",
     "text": [
      "Coefficient for 'has_uppercase':  0.9289178747599827\n"
     ]
    }
   ],
   "source": [
    "#Coefficient for has_uppercase:\n",
    "has_uppercase_coeff=coeff_df.loc[0,\"coefficient\"]\n",
    "print(\"Coefficient for 'has_uppercase': \",has_uppercase_coeff)"
   ]
  },
  {
   "cell_type": "code",
   "execution_count": 97,
   "metadata": {},
   "outputs": [
    {
     "name": "stdout",
     "output_type": "stream",
     "text": [
      "The ratio between 'has_uppercase' coefficient and the biggest positive tfidf coefficient is:  0.4617005798337622\n"
     ]
    }
   ],
   "source": [
    "#Took all coefficients in the list, removed the coefficient for has_uppercase, and then sorted it in a descending fashion. Eventually pulled the biggest positive coeefficient:\n",
    "coeff_val=list(coeff_df.coefficient)\n",
    "coeff_val=coeff_val[1:]\n",
    "largest_coeff_word=sorted(coeff_val,reverse=True)[0]\n",
    "ratio=has_uppercase_coeff/largest_coeff_word\n",
    "print(\"The ratio between 'has_uppercase' coefficient and the biggest positive tfidf coefficient is: \",ratio)"
   ]
  },
  {
   "cell_type": "code",
   "execution_count": null,
   "metadata": {},
   "outputs": [],
   "source": []
  }
 ],
 "metadata": {
  "kernelspec": {
   "display_name": "Python 3",
   "language": "python",
   "name": "python3"
  },
  "language_info": {
   "codemirror_mode": {
    "name": "ipython",
    "version": 3
   },
   "file_extension": ".py",
   "mimetype": "text/x-python",
   "name": "python",
   "nbconvert_exporter": "python",
   "pygments_lexer": "ipython3",
   "version": "3.6.7"
  }
 },
 "nbformat": 4,
 "nbformat_minor": 2
}
