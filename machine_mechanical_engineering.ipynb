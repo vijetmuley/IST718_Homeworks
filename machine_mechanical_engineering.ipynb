{
 "cells": [
  {
   "cell_type": "markdown",
   "metadata": {},
   "source": [
    "# IST 718: Big Data Analytics\n",
    "\n",
    "- Professor: Daniel Acuna <deacuna@syr.edu>\n",
    "\n",
    "## General instructions:\n",
    "\n",
    "- You are welcome to discuss the problems with your classmates but __you are not allowed to copy any part of your answers either from your classmates or from the internet__\n",
    "- You can put the homework files anywhere you want in your http://notebook.acuna.io workspace but _do not change_ the file names. The TAs and the professor use these names to grade your homework.\n",
    "- Remove or comment out code that contains `raise NotImplementedError`. This is mainly to make the `assert` statement fail if nothing is submitted.\n",
    "- The tests shown in some cells (i.e., `assert` and `np.testing.` statements) are used to grade your answers. **However, the professor and TAs will use __additional__ test for your answer. Think about cases where your code should run even if it passess all the tests you see.**\n",
    "- Before downloading and submitting your work through Blackboard, remember to save and press `Validate` (or go to \n",
    "`Kernel`$\\rightarrow$`Restart and Run All`). \n",
    "- Good luck!"
   ]
  },
  {
   "cell_type": "code",
   "execution_count": 1,
   "metadata": {},
   "outputs": [],
   "source": [
    "# Load the packages needed for this part\n",
    "# create spark and sparkcontext objects\n",
    "from pyspark.sql import SparkSession\n",
    "import numpy as np\n",
    "\n",
    "spark = SparkSession.builder.getOrCreate()\n",
    "sc = spark.sparkContext\n",
    "\n",
    "import pyspark\n",
    "from pyspark.ml import feature, regression, Pipeline\n",
    "from pyspark.sql import functions as fn, Row\n",
    "from pyspark import sql\n",
    "\n",
    "import matplotlib.pyplot as plt\n",
    "import pandas as pd"
   ]
  },
  {
   "cell_type": "markdown",
   "metadata": {},
   "source": [
    "# Part 1: Servo analysis\n",
    "\n",
    "In this assignment, you will continue the analysis we started in class of the Servo dataset."
   ]
  },
  {
   "cell_type": "markdown",
   "metadata": {},
   "source": [
    "# Servo data analysis\n",
    "\n",
    "```console\n",
    "1. Title: Servo Data\n",
    "\n",
    "2. Sources\n",
    "   (a) Created by: Karl Ulrich (MIT) in 1986\n",
    "   (b) Donor: Ross Quinlan\n",
    "   (c) Date: May 1993\n",
    "\n",
    "3. Past Usage:\n",
    "\n",
    "   1.  Quinlan, J.R., \"Learning with continuous classes\", Proc. 5th Australian\n",
    "       Joint Conference on AI (eds A. Adams and L. Sterling), Singapore: World\n",
    "       Scientific, 1992\n",
    " \n",
    "   2.  Quinlan, J.R., \"Combining instance-based and model-based learning\",\n",
    "       Proc. ML'93 (ed P.E. Utgoff), San Mateo: Morgan Kaufmann 1993\n",
    " \n",
    "       Results on 10-way cross-validation:\n",
    " \n",
    "       Method\t\t\tAverage\t\tRelative\n",
    "       ------\t\t\t |Err|\t\t Error\n",
    " \t\t\t\t-------\t\t--------\n",
    " \n",
    "       Guessing mean\t\t  1.15\t\t  1.00\n",
    "       Instance-based\t\t   .52\t\t   .26\n",
    "       Regression\t\t   .86\t\t   .49\n",
    "       Model trees\t\t   .45\t\t   .29\n",
    "       Neural nets (G. Hinton)\t   .30\t\t   .11\n",
    "       Regression+instances\t   .48\t\t   .20\n",
    "       Model trees+instances\t   .30\t\t   .17\n",
    "       NN+instances\t\t   .29\t\t   .11\n",
    " \n",
    "4. Relevant Information:\n",
    "\n",
    "   Ross Quinlan:\n",
    "\n",
    "   This data was given to me by Karl Ulrich at MIT in 1986.  I didn't \n",
    "   record his description at the time, but here's his subsequent (1992) \n",
    "   recollection:\n",
    " \n",
    "     \"I seem to remember that the data was from a simulation of a servo\n",
    "     system involving a servo amplifier, a motor, a lead screw/nut, and a\n",
    "     sliding carriage of some sort.  It may have been on of the\n",
    "     translational axes of a robot on the 9th floor of the AI lab.  In any\n",
    "     case, the output value is almost certainly a rise time, or the time\n",
    "     required for the system to respond to a step change in a position set\n",
    "     point.\"\n",
    " \n",
    "   (Quinlan, ML'93)\n",
    "\n",
    "   \"This is an interesting collection of data provided by Karl \n",
    "    Ulrich.  It covers an extremely non-linear phenomenon - predicting the \n",
    "    rise time of a servomechanism in terms of two (continuous) gain settings\n",
    "    and two (discrete) choices of mechanical linkages.\"\n",
    "\n",
    "5. Number of Instances: 167\n",
    "\n",
    "6. Number of Attributes: 4 + numeric class attribute\n",
    "\n",
    "7. Attribute information:\n",
    "\n",
    "   1. motor: A,B,C,D,E\n",
    "   2. screw: A,B,C,D,E\n",
    "   3. pgain: 3,4,5,6\n",
    "   4. vgain: 1,2,3,4,5\n",
    "   5. class: 0.13 to 7.10\n",
    "\n",
    "8. Missing Attribute Values: None\n",
    "```"
   ]
  },
  {
   "cell_type": "code",
   "execution_count": 2,
   "metadata": {},
   "outputs": [],
   "source": [
    "# Load the data\n",
    "servo_df = spark.createDataFrame(pd.read_csv('/datasets/servo.data', \n",
    "            sep=',', \n",
    "            header=None,\n",
    "            names=['motor', 'screw', 'pgain', 'vgain', 'rise_time']))"
   ]
  },
  {
   "cell_type": "markdown",
   "metadata": {},
   "source": [
    "# 1. Explore the data"
   ]
  },
  {
   "cell_type": "markdown",
   "metadata": {},
   "source": [
    "With big data, datasets can be too big to bring them into the Spark client. However, we can use the `limit` method of a dataframe to limit the number of rows to bring as a Pandas dataframe"
   ]
  },
  {
   "cell_type": "markdown",
   "metadata": {},
   "source": [
    "Create a dataframe `servo_sample_df` with the first 20 rows of `servo_df`"
   ]
  },
  {
   "cell_type": "code",
   "execution_count": 3,
   "metadata": {
    "deletable": false,
    "nbgrader": {
     "checksum": "451a05ca5f0fd8171dacfea14ac9ba5f",
     "grade": false,
     "grade_id": "cell-c9d521c675b461ab",
     "locked": false,
     "schema_version": 1,
     "solution": true
    }
   },
   "outputs": [],
   "source": [
    "# create `servo_sample_df`\n",
    "# YOUR CODE HERE\n",
    "#Making sample dataframe that has first 20 rows from the main dataframe:\n",
    "servo_sample_df=servo_df.limit(20)\n",
    "#raise NotImplementedError()"
   ]
  },
  {
   "cell_type": "code",
   "execution_count": 4,
   "metadata": {
    "deletable": false,
    "editable": false,
    "nbgrader": {
     "checksum": "43a81391a0c03b713650167c51d422a8",
     "grade": true,
     "grade_id": "cell-945bf936abee733a",
     "locked": true,
     "points": 2,
     "schema_version": 1,
     "solution": false
    }
   },
   "outputs": [],
   "source": [
    "# 2 pts - right number of rows\n",
    "np.testing.assert_equal(servo_sample_df.count(), 20)"
   ]
  },
  {
   "cell_type": "markdown",
   "metadata": {},
   "source": [
    "**(3 pts)** Below, transform `servo_sample_df` into a Pandas dataframe and do a scatter plot of `pgain` vs `rise_time`"
   ]
  },
  {
   "cell_type": "code",
   "execution_count": 5,
   "metadata": {
    "deletable": false,
    "nbgrader": {
     "checksum": "9d391fad8156223a222178d6b656f6dc",
     "grade": true,
     "grade_id": "cell-1df4f53b56e45b6e",
     "locked": false,
     "points": 3,
     "schema_version": 1,
     "solution": true
    }
   },
   "outputs": [
    {
     "data": {
      "image/png": "[encoded data removed]",
      "text/plain": [
       "<Figure size 432x288 with 1 Axes>"
      ]
     },
     "metadata": {
      "needs_background": "light"
     },
     "output_type": "display_data"
    }
   ],
   "source": [
    "# YOUR CODE HERE\n",
    "import seaborn as sns\n",
    "\n",
    "#Using pandas dataframe with matplotplib\n",
    "servo_sample_pd_df=servo_sample_df.toPandas()\n",
    "\n",
    "#Tried some seaborn, gives the same output:\n",
    "#plot_1=sns.scatterplot(x=\"pgain\",y=\"rise_time\",data=servo_sample_pd_df)\n",
    "\n",
    "#Making a scatterplot using scatter function from matplotlib:\n",
    "plt.figure()\n",
    "#x=pgain, y=rise_time, my dot color will be blue and they'd have some transparency due to alpha being 0.5:\n",
    "plt.scatter(servo_sample_pd_df.pgain,servo_sample_pd_df.rise_time,c=\"blue\",alpha=0.5)\n",
    "#Just renaming the x and y axes:\n",
    "plt.xlabel(\"pgain\")\n",
    "plt.ylabel(\"rise_time\")\n",
    "#Giving it a title:\n",
    "plt.title(\"pgain vs rise_time scatter plot\")\n",
    "display()\n",
    "#raise NotImplementedError()"
   ]
  },
  {
   "cell_type": "markdown",
   "metadata": {},
   "source": [
    "**(3 pts)** Below, transform `servo_sample_df` into a Pandas dataframe and do a scatter plot of `vgain` vs `rise_time`"
   ]
  },
  {
   "cell_type": "code",
   "execution_count": 6,
   "metadata": {
    "deletable": false,
    "nbgrader": {
     "checksum": "fba3bc6e5a7085effcbedb3f55e6ac55",
     "grade": true,
     "grade_id": "cell-35b7ad7b19c37628",
     "locked": false,
     "points": 3,
     "schema_version": 1,
     "solution": true
    }
   },
   "outputs": [
    {
     "name": "stdout",
     "output_type": "stream",
     "text": [
      "  motor screw  pgain  vgain  rise_time\n",
      "0     E     E      5      4   0.281251\n",
      "1     B     D      6      5   0.506252\n",
      "2     D     D      4      3   0.356251\n",
      "3     B     A      3      2   5.500033\n",
      "4     D     B      6      5   0.356251\n"
     ]
    },
    {
     "data": {
      "image/png": "[encoded data removed]",
      "text/plain": [
       "<Figure size 432x288 with 1 Axes>"
      ]
     },
     "metadata": {
      "needs_background": "light"
     },
     "output_type": "display_data"
    }
   ],
   "source": [
    "# YOUR CODE HERE\n",
    "#Same as before, pandas to be used with matplotlib:\n",
    "servo_sample_pd_df=servo_sample_df.toPandas()\n",
    "#Printing the first 5 rows of dataframe to check:\n",
    "print(servo_sample_pd_df.head())\n",
    "#plot_2=sns.scatterplot(x=\"vgain\",y=\"rise_time\",data=servo_sample_pd_df)\n",
    "\n",
    "#Same as previous block: Just changed the dot color to red\n",
    "plt.figure()\n",
    "plt.scatter(servo_sample_pd_df.vgain,servo_sample_pd_df.rise_time,c=\"red\",alpha=0.5)\n",
    "plt.xlabel(\"vgain\")\n",
    "plt.ylabel(\"rise_time\")\n",
    "plt.title(\"vgain vs rise_time scatter plot\")\n",
    "display()\n",
    "#raise NotImplementedError()"
   ]
  },
  {
   "cell_type": "markdown",
   "metadata": {},
   "source": [
    "## Perform correlations between vgain-rise time, pgain-rise time, and vgain-pgain"
   ]
  },
  {
   "cell_type": "markdown",
   "metadata": {},
   "source": [
    "Create a `servo_corr_df` dataframe that contains the correlations between `vgain` and `rise_time` as a column `corr_vgain_rise_time`, between `pgain` and `rise_time` as `corr_pgain_rise_time`, and `vgain` and `pgain` as `corr_vgain_pgain`."
   ]
  },
  {
   "cell_type": "code",
   "execution_count": 7,
   "metadata": {
    "deletable": false,
    "nbgrader": {
     "checksum": "d63807a257294b716b517f2cc48dea12",
     "grade": false,
     "grade_id": "cell-f59db3726a6aa941",
     "locked": false,
     "schema_version": 1,
     "solution": true
    }
   },
   "outputs": [
    {
     "name": "stdout",
     "output_type": "stream",
     "text": [
      "   corr_vgain_rise_time  corr_pgain_rise_time  corr_vgain_pgain\n",
      "0             -0.364383             -0.598129          0.812268\n",
      "Row(corr_vgain_rise_time=-0.36438266626914606, corr_pgain_rise_time=-0.5981287119612234, corr_vgain_pgain=0.812268305818388)\n"
     ]
    }
   ],
   "source": [
    "# create `servo_corr_df` here\n",
    "# YOUR CODE HERE\n",
    "\n",
    "#Taking the dataframe as pandas dataframe:\n",
    "servo_pd_df=servo_df.toPandas()\n",
    "\n",
    "#Calculating individual correlations and assigning them to variables:\n",
    "corr_vgain_rise_time=servo_pd_df[\"vgain\"].corr(servo_pd_df[\"rise_time\"])\n",
    "corr_pgain_rise_time=servo_pd_df[\"pgain\"].corr(servo_pd_df[\"rise_time\"])\n",
    "corr_vgain_pgain=servo_pd_df[\"vgain\"].corr(servo_pd_df[\"pgain\"])\n",
    "\n",
    "#Making a pandas dataframe from the variables and giving appropriate names to the columns. Using print to check my results:\n",
    "servo_corr_pd_df=pd.DataFrame([[corr_vgain_rise_time,corr_pgain_rise_time,corr_vgain_pgain]],columns=[\"corr_vgain_rise_time\",\"corr_pgain_rise_time\",\"corr_vgain_pgain\"])\n",
    "#print(servo_corr_pd_df.head())\n",
    "\n",
    "#Converting the same pandas dataframe to Spark dataframe, checking the result using print:\n",
    "servo_corr_df=spark.createDataFrame(servo_corr_pd_df)\n",
    "print(servo_corr_df.first())\n",
    "\n",
    "#raise NotImplementedError()"
   ]
  },
  {
   "cell_type": "code",
   "execution_count": 8,
   "metadata": {
    "deletable": false,
    "editable": false,
    "nbgrader": {
     "checksum": "63043687d2890640bf59ccf9fcabe580",
     "grade": true,
     "grade_id": "cell-fe722ee58305de94",
     "locked": true,
     "points": 2,
     "schema_version": 1,
     "solution": false
    }
   },
   "outputs": [],
   "source": [
    "## 7 pts\n",
    "np.testing.assert_equal(set(servo_corr_df.columns), \n",
    "                        {'corr_pgain_rise_time', 'corr_vgain_pgain', 'corr_vgain_rise_time'})\n",
    "np.testing.assert_almost_equal(list(servo_corr_df.first().asDict().values()),\n",
    "                               [-0.36438266626914595, -0.5981287119612234, 0.8122683058183874], decimal=3)"
   ]
  },
  {
   "cell_type": "markdown",
   "metadata": {},
   "source": [
    "## Compute mean rise_time for different motors and screws"
   ]
  },
  {
   "cell_type": "markdown",
   "metadata": {},
   "source": [
    "Create `motor_rise_time_df` with the column `motor` and `avg_rise_time`, where `avg_rise_time` is the average rise time for a motor. Sort the resulting dataframe from highest to lowest average rise time."
   ]
  },
  {
   "cell_type": "code",
   "execution_count": 83,
   "metadata": {
    "deletable": false,
    "nbgrader": {
     "checksum": "ad93ae6ce6e96f87f92ad0cea9481137",
     "grade": false,
     "grade_id": "cell-98ecb41cfdc326a3",
     "locked": false,
     "schema_version": 1,
     "solution": true
    }
   },
   "outputs": [
    {
     "name": "stdout",
     "output_type": "stream",
     "text": [
      "  motor  avg_rise_time\n",
      "0     A       1.761111\n",
      "1     B       1.681942\n",
      "2     C       1.254061\n",
      "4     E       1.144893\n",
      "3     D       0.917613\n"
     ]
    }
   ],
   "source": [
    "# YOUR CODE HERE\n",
    "\n",
    "#Doing somewhat same steps here for calculating mean. Using pandas dataframe. Calcuating group wise means for the 5 different types of motors and putting them ina pandas dataframe:\n",
    "servo_pd_df=servo_df.toPandas()\n",
    "motor_rise_time_pd_df=servo_pd_df.groupby(\"motor\")[\"rise_time\"].mean().reset_index()\n",
    "motor_rise_time_pd_df=motor_rise_time_pd_df.rename(columns=({\"rise_time\":\"avg_rise_time\"}))\n",
    "motor_rise_time_pd_df=motor_rise_time_pd_df.sort_values(by=\"avg_rise_time\",ascending=False)\n",
    "#print(motor_rise_time_pd_df.head())\n",
    "\n",
    "#Converting the pandas dataframe to a Spark dataframe:\n",
    "motor_rise_time_df=spark.createDataFrame(motor_rise_time_pd_df)\n",
    "\n",
    "#raise NotImplementedError()"
   ]
  },
  {
   "cell_type": "code",
   "execution_count": 10,
   "metadata": {
    "deletable": false,
    "editable": false,
    "nbgrader": {
     "checksum": "4b3fcf37c16d39a9b3a85cec05508553",
     "grade": true,
     "grade_id": "cell-a3fd7964078508ad",
     "locked": true,
     "points": 3,
     "schema_version": 1,
     "solution": false
    }
   },
   "outputs": [],
   "source": [
    "# 3 pts\n",
    "np.testing.assert_array_almost_equal(\n",
    "    (motor_rise_time_df.orderBy('motor').select('avg_rise_time').\\\n",
    "     rdd.map(lambda x: list(x.asDict().values())).collect())\n",
    "    ,\n",
    "[[1.761110668888889],\n",
    " [1.6819423677777776],\n",
    " [1.2540610067499998],\n",
    " [0.9176125145454546],\n",
    " [1.144893208181818]], decimal=3)"
   ]
  },
  {
   "cell_type": "markdown",
   "metadata": {},
   "source": [
    "Create `screw_rise_time_df` with the column `screw` and `avg_rise_time` sorted from highest to lowest average rise time."
   ]
  },
  {
   "cell_type": "code",
   "execution_count": 74,
   "metadata": {
    "deletable": false,
    "nbgrader": {
     "checksum": "b2a40fc0219dc6b18a898e6b8557110c",
     "grade": false,
     "grade_id": "cell-8ace067a04ebf09a",
     "locked": false,
     "schema_version": 1,
     "solution": true
    }
   },
   "outputs": [],
   "source": [
    "# YOUR CODE HERE\n",
    "\n",
    "#Same as the steps used in calculating mean for motors, usinf pandas as calculating groupwise means for 5 different types of screws, storing them in pandas dataframe:\n",
    "servo_pd_df=servo_df.toPandas()\n",
    "screw_rise_time_pd_df=servo_pd_df.groupby(\"screw\")[\"rise_time\"].mean().reset_index()\n",
    "screw_rise_time_pd_df=screw_rise_time_pd_df.rename(columns=({\"rise_time\":\"avg_rise_time\"}))\n",
    "screw_rise_time_pd_df=screw_rise_time_pd_df.sort_values(by=\"avg_rise_time\",ascending=False)\n",
    "#print(screw_rise_time_pd_df.head())\n",
    "\n",
    "#Eventually converting them to Spark Dataframe:\n",
    "screw_rise_time_df=spark.createDataFrame(screw_rise_time_pd_df)\n",
    "\n",
    "#raise NotImplementedError()"
   ]
  },
  {
   "cell_type": "code",
   "execution_count": 12,
   "metadata": {
    "deletable": false,
    "editable": false,
    "nbgrader": {
     "checksum": "f99769bb3e1453e45c9257acb8a0f38c",
     "grade": true,
     "grade_id": "cell-e72d1676e16b246b",
     "locked": true,
     "points": 3,
     "schema_version": 1,
     "solution": false
    }
   },
   "outputs": [],
   "source": [
    "# 3 pts\n",
    "np.testing.assert_array_almost_equal(\n",
    "    (screw_rise_time_df.orderBy('screw').select('avg_rise_time').\\\n",
    "     rdd.map(lambda x: list(x.asDict().values())).collect())\n",
    "    ,\n",
    "       [[1.768461212142857],\n",
    " [1.3919625091428571],\n",
    " [1.2485862280645161],\n",
    " [1.1612471173333332],\n",
    " [1.225643291724138]],\n",
    "decimal=3)"
   ]
  },
  {
   "cell_type": "markdown",
   "metadata": {},
   "source": [
    "# Feature engineering"
   ]
  },
  {
   "cell_type": "markdown",
   "metadata": {},
   "source": [
    "## Dummy variables for motors and screws\n",
    "Create a dataframe `dummy_df` with columns `motor` and `screw` as dummy variables, and columns `vgain`, `pgain`, and `rise_time`. Use motor D and screw C as the baselines and name the dummy variables `motor_A` for motor `A` and so on. Follow a similar pattern for screw. The dataframe `dummy_df` should not contain the columns `motor` and `screw` but only their dummy variable representations. **All column types should be float or integer.**"
   ]
  },
  {
   "cell_type": "code",
   "execution_count": 13,
   "metadata": {
    "deletable": false,
    "nbgrader": {
     "checksum": "50bd1d331eeeeecabad0c2c873438372",
     "grade": false,
     "grade_id": "cell-eb211f716041febd",
     "locked": false,
     "schema_version": 1,
     "solution": true
    }
   },
   "outputs": [
    {
     "name": "stdout",
     "output_type": "stream",
     "text": [
      "+-----+-----+----------+-------+-------+-------+-------+-------+-------+-------+-------+\n",
      "|pgain|vgain| rise_time|motor_A|motor_B|motor_C|motor_E|screw_A|screw_B|screw_D|screw_E|\n",
      "+-----+-----+----------+-------+-------+-------+-------+-------+-------+-------+-------+\n",
      "|    5|    4|0.28125095|      0|      0|      0|      1|      0|      0|      0|      1|\n",
      "|    6|    5| 0.5062525|      0|      1|      0|      0|      0|      0|      1|      0|\n",
      "|    4|    3|0.35625148|      0|      0|      0|      0|      0|      0|      1|      0|\n",
      "|    3|    2|  5.500033|      0|      1|      0|      0|      1|      0|      0|      0|\n",
      "|    6|    5|0.35625148|      0|      0|      0|      0|      0|      1|      0|      0|\n",
      "+-----+-----+----------+-------+-------+-------+-------+-------+-------+-------+-------+\n",
      "only showing top 5 rows\n",
      "\n"
     ]
    }
   ],
   "source": [
    "# create dummy_df below\n",
    "# YOUR CODE HERE\n",
    "\n",
    "#Making dummy_df from servo_df with the first motor_A column for motors of type A (motor_A=1 for motor type A, else it'd be 0):\n",
    "dummy_df=servo_df.withColumn(\"motor_A\",fn.when(fn.col(\"motor\")==\"A\",1).otherwise(0))\n",
    "\n",
    "#Now just overwriting dummy_df with an additional columns for motor type B (column motor_B will be 1 if motor is B else 0):\n",
    "dummy_df=dummy_df.withColumn(\"motor_B\",fn.when(fn.col(\"motor\")==\"B\",1).otherwise(0))\n",
    "\n",
    "#motor_C column will be 1 for motor type C:\n",
    "dummy_df=dummy_df.withColumn(\"motor_C\",fn.when(fn.col(\"motor\")==\"C\",1).otherwise(0))\n",
    "\n",
    "#motor_E will be 1 for motor type E, else it'd be 0:\n",
    "dummy_df=dummy_df.withColumn(\"motor_E\",fn.when(fn.col(\"motor\")==\"E\",1).otherwise(0))\n",
    "\n",
    "#Motor type D is baseline; meaning if all the dummy columns for different motor types are 0, motor type defaults to being D.\n",
    "\n",
    "#Same thing for screw types, here screw_A will be 1 if screw if os type A, else will be 0:\n",
    "dummy_df=dummy_df.withColumn(\"screw_A\",fn.when(fn.col(\"screw\")==\"A\",1).otherwise(0))\n",
    "\n",
    "#screw_B will be 1 if screw is of type B, else it will be 0:\n",
    "dummy_df=dummy_df.withColumn(\"screw_B\",fn.when(fn.col(\"screw\")==\"B\",1).otherwise(0))\n",
    "\n",
    "#screw_D will be 1 if screw is of type D, else it will be 0:\n",
    "dummy_df=dummy_df.withColumn(\"screw_D\",fn.when(fn.col(\"screw\")==\"D\",1).otherwise(0))\n",
    "\n",
    "#screw_E will be 1 if screw is of type E, else it will be 0:\n",
    "dummy_df=dummy_df.withColumn(\"screw_E\",fn.when(fn.col(\"screw\")==\"E\",1).otherwise(0))\n",
    "#Baseline for screws is screw C; meaning if all dummy columns for 4 types of screws are 0 (screw isn't of any of those 4 types), screw will be by default of class C\n",
    "\n",
    "#Dropping columns 'motor' and 'screw' since we have used dummy to specify the types of motors and screws:\n",
    "dummy_df=dummy_df.drop(\"motor\")\n",
    "dummy_df=dummy_df.drop(\"screw\")\n",
    "\n",
    "#Checking my output:\n",
    "dummy_df.show(5)\n",
    "\n",
    "#raise NotImplementedError()"
   ]
  },
  {
   "cell_type": "code",
   "execution_count": 14,
   "metadata": {
    "deletable": false,
    "editable": false,
    "nbgrader": {
     "checksum": "54ee15ea1229510a08e9c1b1acb1a039",
     "grade": true,
     "grade_id": "cell-9fdc091f4ff491bf",
     "locked": true,
     "points": 3,
     "schema_version": 1,
     "solution": false
    }
   },
   "outputs": [],
   "source": [
    "# 3 pts\n",
    "np.testing.assert_equal(len(dummy_df.columns), 11)\n",
    "np.testing.assert_equal(dummy_df.select(fn.sum('motor_A')).first()['sum(motor_A)'], 36)\n",
    "np.testing.assert_equal(dummy_df.select(fn.sum('screw_A')).first()['sum(screw_A)'], 42)"
   ]
  },
  {
   "cell_type": "markdown",
   "metadata": {},
   "source": [
    "# Model comparison\n",
    "\n",
    "In the next set of questions, you will use the splits below to fit, validate, and estimate the generalization error of your models. The `randomSplit` is called with a seed so that it does not change from what the professor used."
   ]
  },
  {
   "cell_type": "code",
   "execution_count": 15,
   "metadata": {
    "deletable": false,
    "editable": false,
    "nbgrader": {
     "checksum": "679501d8b3b5eca4b45bb5ce33c85bd2",
     "grade": false,
     "grade_id": "cell-50d140f5bb9fb0a6",
     "locked": true,
     "schema_version": 1,
     "solution": false
    }
   },
   "outputs": [
    {
     "name": "stdout",
     "output_type": "stream",
     "text": [
      "# points in training:  102\n",
      "# points in validation:  50\n",
      "# points in testing:  15\n"
     ]
    }
   ],
   "source": [
    "training_df, validation_df, testing_df = dummy_df.randomSplit([0.6, 0.3, 0.1], seed=0)\n",
    "print(\"# points in training: \", training_df.count())\n",
    "print(\"# points in validation: \", validation_df.count())\n",
    "print(\"# points in testing: \", testing_df.count())"
   ]
  },
  {
   "cell_type": "markdown",
   "metadata": {},
   "source": [
    "## Propose three regression models\n",
    "\n",
    "In the next section, you will choose the best model to explain the data in `servo_df`. Select the right split of the data for the right step of the process (i.e., training, validation, and testing)"
   ]
  },
  {
   "cell_type": "markdown",
   "metadata": {},
   "source": [
    "### Model 1: Fit model with only `pgain`\n",
    "\n",
    "Create a pipeline that takes *pgain* as a feature to predict *rise time* and fits a linear regression model. You should start your pipeline by taking the appropriate column or columns from `dummy_df` in which the raw feature `pgain` may or may not have been feature engineered. Assign the fit pipeline transformer to `pipe_model1`. Your pipeline must have one vector assembler followed by a linear regression."
   ]
  },
  {
   "cell_type": "code",
   "execution_count": 16,
   "metadata": {},
   "outputs": [
    {
     "data": {
      "text/plain": [
       "DataFrame[pgain: bigint, vgain: bigint, rise_time: double, motor_A: int, motor_B: int, motor_C: int, motor_E: int, screw_A: int, screw_B: int, screw_D: int, screw_E: int]"
      ]
     },
     "execution_count": 16,
     "metadata": {},
     "output_type": "execute_result"
    }
   ],
   "source": [
    "training_df"
   ]
  },
  {
   "cell_type": "code",
   "execution_count": 35,
   "metadata": {
    "deletable": false,
    "nbgrader": {
     "checksum": "e13dd6486f50f9fdd385d0e435a808b5",
     "grade": false,
     "grade_id": "cell-3b76b5c1134779fc",
     "locked": false,
     "schema_version": 1,
     "solution": true
    }
   },
   "outputs": [],
   "source": [
    "# create `pipe_model1` below\n",
    "# YOUR CODE HERE\n",
    "#Making pipeline for the first model of linear regression with only pgain. The model has a vector assembler to change pgain to features and a linear regression estimator:\n",
    "pl1=Pipeline(stages=[feature.VectorAssembler(inputCols=[\"pgain\"],outputCol=\"features\"),regression.LinearRegression(featuresCol=\"features\",labelCol=\"rise_time\")])\n",
    "\n",
    "#Fitting the pipeline (which is an estimator) with training_df to get a model (or transformer):\n",
    "pipe_model1=pl1.fit(training_df)\n",
    "\n",
    "#raise NotImplementedError()"
   ]
  },
  {
   "cell_type": "code",
   "execution_count": 18,
   "metadata": {
    "deletable": false,
    "editable": false,
    "nbgrader": {
     "checksum": "b1c239aa677cdd76caa08a036ae4cffd",
     "grade": true,
     "grade_id": "cell-3944466629fee9da",
     "locked": true,
     "points": 5,
     "schema_version": 1,
     "solution": false
    }
   },
   "outputs": [],
   "source": [
    "# (5 pts)\n",
    "np.testing.assert_equal(type(pipe_model1.stages[0]), feature.VectorAssembler)\n",
    "np.testing.assert_equal(type(pipe_model1.stages[1]), regression.LinearRegressionModel)\n",
    "np.testing.assert_array_equal(pipe_model1.stages[1].coefficients.shape, (1,))"
   ]
  },
  {
   "cell_type": "markdown",
   "metadata": {},
   "source": [
    "### Model 2: Fit model with only `vgain`\n",
    "\n",
    "Follow the same idea as above and create a pipeline transformer `pipe_model2`"
   ]
  },
  {
   "cell_type": "code",
   "execution_count": 19,
   "metadata": {
    "deletable": false,
    "nbgrader": {
     "checksum": "a9befb44f4f0a022cff725205ae67877",
     "grade": false,
     "grade_id": "cell-52aee024a8f17921",
     "locked": false,
     "schema_version": 1,
     "solution": true
    }
   },
   "outputs": [],
   "source": [
    "# YOUR CODE HERE\n",
    "\n",
    "#Doing the same as above, except that the input for linear regression is now vgain:\n",
    "pl2=Pipeline(stages=[feature.VectorAssembler(inputCols=[\"vgain\"],outputCol=\"features\"),regression.LinearRegression(featuresCol=\"features\",labelCol=\"rise_time\")])\n",
    "pipe_model2=pl2.fit(training_df)\n",
    "\n",
    "#raise NotImplementedError()"
   ]
  },
  {
   "cell_type": "code",
   "execution_count": 20,
   "metadata": {
    "deletable": false,
    "editable": false,
    "nbgrader": {
     "checksum": "4932a21cd41306da5c217705433507f7",
     "grade": true,
     "grade_id": "cell-d278316c89d97741",
     "locked": true,
     "points": 5,
     "schema_version": 1,
     "solution": false
    }
   },
   "outputs": [],
   "source": [
    "# (5 pts)\n",
    "np.testing.assert_equal(type(pipe_model2.stages[0]), feature.VectorAssembler)\n",
    "np.testing.assert_equal(type(pipe_model2.stages[1]), regression.LinearRegressionModel)\n",
    "np.testing.assert_array_equal(pipe_model2.stages[1].coefficients.shape, (1,))"
   ]
  },
  {
   "cell_type": "markdown",
   "metadata": {},
   "source": [
    "### Model 3: Fit model with only motor, screw, pgain, and vgain\n",
    "\n",
    "Follow the same idea as above and create a pipeline transformer `pipe_model3`. Remember that some features have been feature engineered. In particular, use the transformed columns in the order: motor, screw, pgain, and vgain. Choose the columns from `dummy_df` appropriately."
   ]
  },
  {
   "cell_type": "code",
   "execution_count": 21,
   "metadata": {
    "deletable": false,
    "nbgrader": {
     "checksum": "35a8633d09ab0c29fd669fee3c06e97a",
     "grade": false,
     "grade_id": "cell-c120f9f58afe1ee6",
     "locked": false,
     "schema_version": 1,
     "solution": true
    }
   },
   "outputs": [],
   "source": [
    "# create `pipe_model2` below\n",
    "# YOUR CODE HERE\n",
    "\n",
    "#Same as previous 2 pipelines, except that now we are using all the columns as input (all columns from the dataframe dummy_df):\n",
    "pl3=Pipeline(stages=[feature.VectorAssembler(inputCols=[\"motor_A\",\"motor_B\",\"motor_C\",\"motor_E\",\"screw_A\",\"screw_B\",\"screw_D\",\"screw_E\",\"pgain\",\"vgain\"],outputCol=\"features\"),regression.LinearRegression(featuresCol=\"features\",labelCol=\"rise_time\")])\n",
    "pipe_model3=pl3.fit(training_df)\n",
    "\n",
    "#raise NotImplementedError()"
   ]
  },
  {
   "cell_type": "code",
   "execution_count": 22,
   "metadata": {
    "deletable": false,
    "editable": false,
    "nbgrader": {
     "checksum": "64c5a8082b38841e089079c4fde91727",
     "grade": true,
     "grade_id": "cell-1cfd038a4f349405",
     "locked": true,
     "points": 5,
     "schema_version": 1,
     "solution": false
    }
   },
   "outputs": [],
   "source": [
    "# (5 pts)\n",
    "np.testing.assert_equal(type(pipe_model3.stages[0]), feature.VectorAssembler)\n",
    "np.testing.assert_equal(type(pipe_model3.stages[1]), regression.LinearRegressionModel)\n",
    "np.testing.assert_array_equal(pipe_model3.stages[1].coefficients.shape, (10,))"
   ]
  },
  {
   "cell_type": "markdown",
   "metadata": {},
   "source": [
    "# Compare models"
   ]
  },
  {
   "cell_type": "markdown",
   "metadata": {},
   "source": [
    "### Estimate RMSE on validation data for the three models\n",
    "\n",
    "Create three dataframes `rmse1_df`, `rmse2_df`, and `rmse3_df` for models 1, 2, and 3, respectively, with only with column `rmse`"
   ]
  },
  {
   "cell_type": "code",
   "execution_count": 87,
   "metadata": {
    "deletable": false,
    "nbgrader": {
     "checksum": "dc5e62f02884fcce8ae909945800700f",
     "grade": false,
     "grade_id": "cell-a9dc54b0e8d696ef",
     "locked": false,
     "schema_version": 1,
     "solution": true
    }
   },
   "outputs": [],
   "source": [
    "# create rmse1_df, rmse2_df, and rmse3_df dataframes below\n",
    "# YOUR CODE HERE\n",
    "#Writing a function to calculate RMSE by subtracting actual rise_time from predicted rise time by the model, squaring it, taking mean of squared error terms and taking root of that mean:\n",
    "rmse = fn.sqrt(fn.mean((fn.col('rise_time') - fn.col('prediction'))**2)).alias('rmse')\n",
    "\n",
    "#Calculating the RMSE for all 3 of my models using the validation dataframe (from the 3 transformers created from 3 pipelines) and saving them to dataframes:\n",
    "rmse1_df=pipe_model1.transform(validation_df).select(rmse)\n",
    "rmse2_df=pipe_model2.transform(validation_df).select(rmse)\n",
    "rmse3_df=pipe_model3.transform(validation_df).select(rmse)\n",
    "\n",
    "#Tried changing the names from simple 'rmse' to RMSE for individual models using alis, but the assertion cases are using 'rmse' as column names, so kept it the same\n",
    "#raise NotImplementedError()"
   ]
  },
  {
   "cell_type": "code",
   "execution_count": 88,
   "metadata": {},
   "outputs": [
    {
     "name": "stdout",
     "output_type": "stream",
     "text": [
      "+----------------+\n",
      "|            rmse|\n",
      "+----------------+\n",
      "|1.34327577005387|\n",
      "+----------------+\n",
      "\n",
      "+-----------------+\n",
      "|             rmse|\n",
      "+-----------------+\n",
      "|1.514903147547569|\n",
      "+-----------------+\n",
      "\n",
      "+------------------+\n",
      "|              rmse|\n",
      "+------------------+\n",
      "|1.3529798940782019|\n",
      "+------------------+\n",
      "\n"
     ]
    }
   ],
   "source": [
    "# display the answers here\n",
    "#Displaying the RMSE dataframes for the 3 models:\n",
    "rmse1_df.show()\n",
    "rmse2_df.show()\n",
    "rmse3_df.show()"
   ]
  },
  {
   "cell_type": "code",
   "execution_count": 89,
   "metadata": {
    "deletable": false,
    "editable": false,
    "nbgrader": {
     "checksum": "5184ddaec56494171407cfb72d94dd58",
     "grade": true,
     "grade_id": "cell-ef7fe89203dcf7ae",
     "locked": true,
     "points": 5,
     "schema_version": 1,
     "solution": false
    }
   },
   "outputs": [],
   "source": [
    "# (5 pts)\n",
    "np.testing.assert_equal(rmse1_df.count(), 1)\n",
    "np.testing.assert_equal(rmse2_df.count(), 1)\n",
    "np.testing.assert_equal(rmse3_df.count(), 1)\n",
    "np.testing.assert_equal(rmse1_df.columns, ['rmse'])\n",
    "np.testing.assert_equal(rmse2_df.columns, ['rmse'])\n",
    "np.testing.assert_equal(rmse3_df.columns, ['rmse'])"
   ]
  },
  {
   "cell_type": "markdown",
   "metadata": {},
   "source": [
    "Assign the best cross validated model to a variable `best_model` below"
   ]
  },
  {
   "cell_type": "code",
   "execution_count": 26,
   "metadata": {
    "deletable": false,
    "nbgrader": {
     "checksum": "3f7ff2f70265cbad1dc39394c737a946",
     "grade": false,
     "grade_id": "cell-ae68c8174768b63e",
     "locked": false,
     "schema_version": 1,
     "solution": true
    }
   },
   "outputs": [],
   "source": [
    "# assign best model (the best pipeline transformer) to a variable best_model below\n",
    "# YOUR CODE HERE\n",
    "\n",
    "#Based on the RMSE values, the model generated from pipeline 1 is the best cross validated one (Since the RMSE for that one was the lowest among the 3 models; 1.34327577005387)\n",
    "best_model=pipe_model1\n",
    "\n",
    "#raise NotImplementedError()"
   ]
  },
  {
   "cell_type": "code",
   "execution_count": 27,
   "metadata": {
    "deletable": false,
    "editable": false,
    "nbgrader": {
     "checksum": "6149102c64b5742a9532945cad43daba",
     "grade": true,
     "grade_id": "cell-8d3e6c2fc9feb10f",
     "locked": true,
     "points": 2,
     "schema_version": 1,
     "solution": false
    }
   },
   "outputs": [],
   "source": [
    "# (2 pts)\n",
    "np.testing.assert_equal(type(best_model), pyspark.ml.pipeline.PipelineModel)"
   ]
  },
  {
   "cell_type": "markdown",
   "metadata": {},
   "source": [
    "### Estimate generalization performance with RMSE\n",
    "\n",
    "Create a variable `rmse_best_df` that contains the RMSE of the best model on testing data"
   ]
  },
  {
   "cell_type": "code",
   "execution_count": 28,
   "metadata": {
    "deletable": false,
    "nbgrader": {
     "checksum": "69148aec455c19af6abda44a65d5c6cf",
     "grade": false,
     "grade_id": "cell-be77e90562322046",
     "locked": false,
     "schema_version": 1,
     "solution": true
    }
   },
   "outputs": [],
   "source": [
    "# create rmse_best_df\n",
    "# YOUR CODE HERE\n",
    "\n",
    "#I am calculating the rmse (using the previously defined function to calculate rmse) of my best model (from 1st pipeline's transformer (pipe_model1)) \n",
    "#on training data. It is important to use training_df now for I wanna see the generalization performance:\n",
    "rmse_best_df=pipe_model1.transform(testing_df).select(rmse)\n",
    "\n",
    "#raise NotImplementedError()"
   ]
  },
  {
   "cell_type": "code",
   "execution_count": 29,
   "metadata": {
    "deletable": false,
    "editable": false,
    "nbgrader": {
     "checksum": "9a496ead0654ee61fcfa6802586301e9",
     "grade": true,
     "grade_id": "cell-7ea33e8409261269",
     "locked": true,
     "points": 3,
     "schema_version": 1,
     "solution": false
    }
   },
   "outputs": [],
   "source": [
    "# (3 pts)\n",
    "np.testing.assert_equal(rmse_best_df.count(), 1)\n",
    "np.testing.assert_equal(rmse_best_df.columns, ['rmse'])"
   ]
  },
  {
   "cell_type": "markdown",
   "metadata": {},
   "source": [
    "**(3 pts)** What is the best estimated generalization performance of the best model? Answer in the cell below"
   ]
  },
  {
   "cell_type": "code",
   "execution_count": 30,
   "metadata": {
    "deletable": false,
    "nbgrader": {
     "checksum": "87ceb0a1ca6b81effacaacd94574af69",
     "grade": true,
     "grade_id": "cell-250e44de7b4539f3",
     "locked": false,
     "points": 3,
     "schema_version": 1,
     "solution": true
    }
   },
   "outputs": [
    {
     "name": "stdout",
     "output_type": "stream",
     "text": [
      "+------------------+\n",
      "|              rmse|\n",
      "+------------------+\n",
      "|1.1120589909789866|\n",
      "+------------------+\n",
      "\n"
     ]
    }
   ],
   "source": [
    "# YOUR CODE HERE\n",
    "\n",
    "#Showing the rmse dataframe\n",
    "rmse_best_df.show()\n",
    "\n",
    "#raise NotImplementedError()"
   ]
  },
  {
   "cell_type": "markdown",
   "metadata": {},
   "source": [
    "# Do inference with best model"
   ]
  },
  {
   "cell_type": "markdown",
   "metadata": {},
   "source": [
    "Assume that model 3 is the best one. Redefine a new pipeline for this model called `pipe_model_best` and fit it to the **entire training data** (all of `dummy_df`)."
   ]
  },
  {
   "cell_type": "code",
   "execution_count": 52,
   "metadata": {
    "deletable": false,
    "nbgrader": {
     "checksum": "7414f608465227abb4a64b9657bb0f72",
     "grade": false,
     "grade_id": "cell-5d347fc67e4a77b6",
     "locked": false,
     "schema_version": 1,
     "solution": true
    }
   },
   "outputs": [],
   "source": [
    "# create `pipe_model_best` below\n",
    "# YOUR CODE HERE\n",
    "\n",
    "#As mentioned in the statement, taking model 3's pipeline for it was deemed to be the best model:\n",
    "pipe_best=pl3\n",
    "\n",
    "#Making the model from this pipeline using all the data avaialable to us. The data has been feature engineered to dummy variables for classes:  \n",
    "pipe_model_best=pipe_best.fit(dummy_df)\n",
    "\n",
    "#raise NotImplementedError()"
   ]
  },
  {
   "cell_type": "code",
   "execution_count": 53,
   "metadata": {
    "deletable": false,
    "editable": false,
    "nbgrader": {
     "checksum": "309d7279ebeea7fa95af4c654858d50f",
     "grade": true,
     "grade_id": "cell-230c8b35da808e47",
     "locked": true,
     "points": 4,
     "schema_version": 1,
     "solution": false
    }
   },
   "outputs": [],
   "source": [
    "# (4 pts) check that the model was fitted correctly\n",
    "np.testing.assert_equal(type(pipe_model_best.stages[0]), feature.VectorAssembler)\n",
    "np.testing.assert_equal(type(pipe_model_best.stages[1]), regression.LinearRegressionModel)\n",
    "np.testing.assert_array_equal(pipe_model_best.stages[1].coefficients.shape, (10,))"
   ]
  },
  {
   "cell_type": "markdown",
   "metadata": {},
   "source": [
    "**(4 pts)** Assume that all features on `dummy_df` were comparable (i.e., standardized). Taking motor D and screw C as the baseline, what are the top 2 most important features for *increasing rise time* and the top 2 most important features for *decreasing rise time*? Answer below with code and comments to support your answer"
   ]
  },
  {
   "cell_type": "code",
   "execution_count": 82,
   "metadata": {
    "deletable": false,
    "nbgrader": {
     "checksum": "26b6ef569dc2c8207c0e69cc984d80b9",
     "grade": true,
     "grade_id": "cell-a1305a62d8222591",
     "locked": false,
     "points": 4,
     "schema_version": 1,
     "solution": true
    }
   },
   "outputs": [
    {
     "name": "stdout",
     "output_type": "stream",
     "text": [
      "Top 2 factors in increasing rise time: 1). motor_A : 1.430299448895454  2). motor_B : 1.3511311477843428\n",
      "Top 2 factors in decreasing rise time: 1). pgain : -1.6435283526061615  2). screw_D : -0.12295757537582756\n"
     ]
    }
   ],
   "source": [
    "# YOUR CODE HERE\n",
    "\n",
    "#Making the variable list. I copied the list from my inputCol list for the pipeline 3 (pl3) because the order of variables is that:\n",
    "var_list=[\"motor_A\",\"motor_B\",\"motor_C\",\"motor_E\",\"screw_A\",\"screw_B\",\"screw_D\",\"screw_E\",\"pgain\",\"vgain\"]\n",
    "\n",
    "#Getting the coefficients from the model I made in the previous code block, getting it into a list:\n",
    "coeff_list=list(pipe_model_best.stages[1].coefficients)\n",
    "\n",
    "#Using zip function on these 2 lists to make a dictionary of variables and parameters:\n",
    "para_dic=dict(zip(var_list,coeff_list))\n",
    "#print(para_dic)\n",
    "#print(coeff_list)\n",
    "#print(var_list)\n",
    "\n",
    "#most_pos=dict(sorted(para_dic.items(),key=operator.itemgetter(1),reverse=False))\n",
    "\n",
    "#Sorting the dictionary based on the coefficient values in ascending order\n",
    "sort_dic=dict(sorted(para_dic.items(),key=lambda ele: ele[1]))\n",
    "\n",
    "#print(sort_dic)\n",
    "\n",
    "#making alist of keys from the dictionary (basically list of all variables):\n",
    "d_keys=list(sort_dic.keys())\n",
    "#print(type(d_keys))\n",
    "\n",
    "#Printing the last 2 keys and values from the sorted dictionary, thus having highest coefficient values:\n",
    "print(\"Top 2 factors in increasing rise time: 1).\",list(sort_dic.keys())[-1],\":\",list(sort_dic.values())[-1],\" 2).\",list(sort_dic.keys())[-2],\":\",list(sort_dic.values())[-2])\n",
    "\n",
    "#Printing first 2 keys and values from the sorted dictionary, thus having the lowest coefficient values:\n",
    "print(\"Top 2 factors in decreasing rise time: 1).\",list(sort_dic.keys())[0],\":\",list(sort_dic.values())[0],\" 2).\",list(sort_dic.keys())[1],\":\",list(sort_dic.values())[1])\n",
    "\n",
    "#raise NotImplementedError()"
   ]
  }
 ],
 "metadata": {
  "kernelspec": {
   "display_name": "Python 3",
   "language": "python",
   "name": "python3"
  },
  "language_info": {
   "codemirror_mode": {
    "name": "ipython",
    "version": 3
   },
   "file_extension": ".py",
   "mimetype": "text/x-python",
   "name": "python",
   "nbconvert_exporter": "python",
   "pygments_lexer": "ipython3",
   "version": "3.6.7"
  }
 },
 "nbformat": 4,
 "nbformat_minor": 2
}
